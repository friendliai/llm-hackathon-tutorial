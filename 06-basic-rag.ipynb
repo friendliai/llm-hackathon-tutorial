{
 "cells": [
  {
   "cell_type": "code",
   "execution_count": 1,
   "id": "initial_id",
   "metadata": {
    "collapsed": true,
    "ExecuteTime": {
     "end_time": "2024-05-21T07:17:02.619177Z",
     "start_time": "2024-05-21T07:17:01.013139Z"
    }
   },
   "outputs": [],
   "source": [
    "!pip3 install -qU langchain langchain-community friendli-client requests"
   ]
  },
  {
   "cell_type": "code",
   "outputs": [],
   "source": [
    "import requests\n",
    "\n",
    "\n",
    "FRIENDLI_TOKEN = \"flp_xxxx\"  # https://suite.friendli.ai/user-settings/tokens\n",
    "def retrieve_contexts(document_ids: list[str], query: str, k: int) -> list[str]:\n",
    "    resp = requests.post(\n",
    "        \"https://suite.friendli.ai/api/beta/retrieve\",\n",
    "        headers={\n",
    "            \"Content-Type\": \"application/json\",\n",
    "            \"Authorization\": f\"Bearer {FRIENDLI_TOKEN}\",\n",
    "        },\n",
    "        json={\n",
    "            \"document_ids\": document_ids,\n",
    "            \"query\": query,\n",
    "            \"k\": k,\n",
    "        }\n",
    "    )\n",
    "    data = resp.json()\n",
    "    return [r[\"content\"] for r in data[\"results\"]]"
   ],
   "metadata": {
    "collapsed": false,
    "ExecuteTime": {
     "end_time": "2024-05-21T07:17:02.655784Z",
     "start_time": "2024-05-21T07:17:02.621408Z"
    }
   },
   "id": "17277990f018392c",
   "execution_count": 2
  },
  {
   "cell_type": "code",
   "outputs": [
    {
     "name": "stdout",
     "output_type": "stream",
     "text": [
      "['ORCA: A Distributed Serving System for\\nTransformer-Based Generative Models...]\n"
     ]
    }
   ],
   "source": [
    "document_ids = [...]\n",
    "contexts = retrieve_contexts(document_ids, \"What is Orca?\", 2)\n",
    "print(contexts)"
   ],
   "metadata": {
    "collapsed": false,
    "ExecuteTime": {
     "end_time": "2024-05-21T07:17:03.261082Z",
     "start_time": "2024-05-21T07:17:02.656319Z"
    }
   },
   "id": "2c3b75d1c224037f",
   "execution_count": 3
  },
  {
   "cell_type": "code",
   "outputs": [
    {
     "data": {
      "text/plain": "\"Orca can refer to different things, but I'll cover the most common meanings:\\n\\n1. **Orca (killer whale)**: The orca, also known as the killer whale, is a toothed whale belonging to the oceanic dolphin family. It is the largest member of the dolphin family and is known for its distinctive black and white coloring. Orcas are apex predators, which means they have no natural predators in the wild. They are highly social, intelligent, and communicate using a variety of clicks, whistles, and body language.\\n2. **Orca (software)**: Orca is an open-source screen reader and assistive technology developed by the GNOME Project. It provides a way for people with visual impairments or blindness to interact with graphical user interfaces (GUIs) using a braille display or synthesized speech.\\n3. **Orca (Marvel Comics)**: Orca is a fictional character in the Marvel Comics universe. She is a supervillain and an enemy of Namor the Sub-Mariner. Her real name is Suzanna Sherman, and she gained her abilities through genetic engineering.\\n4. **Orca (other meanings)**: Orca can also refer to other things, such as:\\n\\t* Orca (investment firm): A private investment firm based in the United States.\\n\\t* Orca (beer): A beer brand from the Pacific Northwest region of the United States.\\n\\t* Orca ( boat): A type of boat or yacht designed for fishing or cruising.\\n\\nWithout more context, it's difficult to determine which Orca you are referring to. If you have any additional information or clarification, I'd be happy to try and provide a more specific answer!\""
     },
     "execution_count": 4,
     "metadata": {},
     "output_type": "execute_result"
    }
   ],
   "source": [
    "from langchain_community.chat_models.friendli import ChatFriendli\n",
    "\n",
    "llm = ChatFriendli(model=\"meta-llama-3-70b-instruct\", friendli_token=FRIENDLI_TOKEN)\n",
    "llm.call_as_llm(message=\"What is Orca?\")"
   ],
   "metadata": {
    "collapsed": false,
    "ExecuteTime": {
     "end_time": "2024-05-21T07:17:15.217184Z",
     "start_time": "2024-05-21T07:17:03.264751Z"
    }
   },
   "id": "701d8ba457489e8b",
   "execution_count": 4
  },
  {
   "cell_type": "code",
   "outputs": [
    {
     "data": {
      "text/plain": "'ORCA is a distributed serving system for Transformer-based generative models. It is designed to provide low-latency and high-throughput inference serving for large-scale Transformer models, such as GPT-3. Thanks for asking!'"
     },
     "execution_count": 5,
     "metadata": {},
     "output_type": "execute_result"
    }
   ],
   "source": [
    "template = \"\"\"Use the following pieces of context to answer the question at the end.\n",
    "If you don’t know the answer, just say that you don’t know, don’t try to make up an answer.\n",
    "Use three sentences maximum and keep the answer as concise as possible.\n",
    "Always say “thanks for asking!” at the end of the answer.\n",
    "\n",
    "{context}\n",
    "\n",
    "Question: {question}\n",
    "\n",
    "Helpful Answer:\"\"\"\n",
    "rag_message = template.format(context=\"\\n\".join(contexts), question=\"What is Orca?\")\n",
    "llm.call_as_llm(message=rag_message)"
   ],
   "metadata": {
    "collapsed": false,
    "ExecuteTime": {
     "end_time": "2024-05-21T07:17:18.079240Z",
     "start_time": "2024-05-21T07:17:15.221084Z"
    }
   },
   "id": "55fcee505c635769",
   "execution_count": 5
  },
  {
   "cell_type": "code",
   "outputs": [],
   "source": [],
   "metadata": {
    "collapsed": false,
    "ExecuteTime": {
     "end_time": "2024-05-21T07:17:18.081683Z",
     "start_time": "2024-05-21T07:17:18.080150Z"
    }
   },
   "id": "25dd6ef072263777",
   "execution_count": 5
  }
 ],
 "metadata": {
  "kernelspec": {
   "display_name": "Python 3",
   "language": "python",
   "name": "python3"
  },
  "language_info": {
   "codemirror_mode": {
    "name": "ipython",
    "version": 2
   },
   "file_extension": ".py",
   "mimetype": "text/x-python",
   "name": "python",
   "nbconvert_exporter": "python",
   "pygments_lexer": "ipython2",
   "version": "2.7.6"
  }
 },
 "nbformat": 4,
 "nbformat_minor": 5
}
